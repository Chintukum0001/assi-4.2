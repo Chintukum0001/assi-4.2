{
 "cells": [
  {
   "cell_type": "code",
   "execution_count": 2,
   "id": "10a33cec",
   "metadata": {},
   "outputs": [
    {
     "data": {
      "text/plain": [
       "[3, 6, 9, 12, 15, 18, 21]"
      ]
     },
     "execution_count": 2,
     "metadata": {},
     "output_type": "execute_result"
    }
   ],
   "source": [
    "#Write a Python program to triple all numbers of a given list of integers. Use Python map.\n",
    "\n",
    "\n",
    "\n",
    "def yuvi(n):\n",
    "    return n*3\n",
    "\n",
    "A= [1, 2, 3, 4, 5, 6, 7]\n",
    "list(map(yuvi,A))"
   ]
  },
  {
   "cell_type": "code",
   "execution_count": 3,
   "id": "3e2a1cbc",
   "metadata": {},
   "outputs": [
    {
     "data": {
      "text/plain": [
       "[3, 6, 9, 12, 15, 18, 21]"
      ]
     },
     "execution_count": 3,
     "metadata": {},
     "output_type": "execute_result"
    }
   ],
   "source": [
    "A= [1, 2, 3, 4, 5, 6, 7]\n",
    "yuvraj =list(map(lambda r:r*3 , A))\n",
    "yuvraj"
   ]
  },
  {
   "cell_type": "code",
   "execution_count": null,
   "id": "7c24e04d",
   "metadata": {},
   "outputs": [],
   "source": []
  }
 ],
 "metadata": {
  "kernelspec": {
   "display_name": "Python 3 (ipykernel)",
   "language": "python",
   "name": "python3"
  },
  "language_info": {
   "codemirror_mode": {
    "name": "ipython",
    "version": 3
   },
   "file_extension": ".py",
   "mimetype": "text/x-python",
   "name": "python",
   "nbconvert_exporter": "python",
   "pygments_lexer": "ipython3",
   "version": "3.10.2"
  }
 },
 "nbformat": 4,
 "nbformat_minor": 5
}
